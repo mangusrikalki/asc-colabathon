{
 "cells": [
  {
   "cell_type": "code",
   "execution_count": 20,
   "id": "ca4902dd",
   "metadata": {},
   "outputs": [],
   "source": [
    "from google.cloud import bigquery\n",
    "\n",
    "client = bigquery.Client(\"asc-colabathon\")\n",
    "\n",
    "api_response = client.list_datasets()\n"
   ]
  },
  {
   "cell_type": "code",
   "execution_count": null,
   "id": "ecd546e1",
   "metadata": {},
   "outputs": [
    {
     "ename": "SyntaxError",
     "evalue": "invalid syntax (3654348432.py, line 2)",
     "output_type": "error",
     "traceback": [
      "\u001b[0;36m  Cell \u001b[0;32mIn[25], line 2\u001b[0;36m\u001b[0m\n\u001b[0;31m    datasets = dataset.dataset_id for dataset in api_response\u001b[0m\n\u001b[0m                                  ^\u001b[0m\n\u001b[0;31mSyntaxError\u001b[0m\u001b[0;31m:\u001b[0m invalid syntax\n"
     ]
    }
   ],
   "source": [
    "\n",
    "# print(list(api_response))\n",
    "# datasets = dataset.dataset_id for dataset in api_response\n",
    "\n",
    "for dataset in api_response:\n",
    "    print(\"\\t{}\".format(dataset.dataset_id))\n",
    "    datasets.append(str(dataset.dataset_id))\n"
   ]
  },
  {
   "cell_type": "code",
   "execution_count": 23,
   "id": "5013c1a1",
   "metadata": {},
   "outputs": [
    {
     "name": "stdout",
     "output_type": "stream",
     "text": [
      "['dv_test_1', 'dv_test_2']\n"
     ]
    }
   ],
   "source": [
    "# print(api_response)\n",
    "# datasets = []\n",
    "# for dataset in api_response:\n",
    "#     datasets.append(str(dataset.dataset_id))\n",
    "# datasets = list([ ])\n",
    "print(datasets)"
   ]
  },
  {
   "cell_type": "markdown",
   "id": "e711c2bc",
   "metadata": {},
   "source": [
    "May 8th - "
   ]
  },
  {
   "cell_type": "markdown",
   "id": "9bcb970f",
   "metadata": {},
   "source": [
    "First Prompt - Sri Natural Test - Send to Gemini\n",
    "Repsonse\n",
    "parameters null\n",
    "1 - chat_send: ; call_name: list_datasets; params: \n",
    "\n",
    "2  - chat_send: ['dv_test_1', 'dv_test_2']; call_name: list_datasets; params: \n",
    "\n",
    "1 - chat_send: ['dv_test_1', 'dv_test_2']; call_name: list_tables; params: \n",
    "dataset_id: dv_test_1\n",
    "2  - chat_send: ['test1', 'test3']; call_name: list_tables; params: \n",
    "dataset_id: dv_test_1"
   ]
  },
  {
   "cell_type": "markdown",
   "id": "2050ebd7",
   "metadata": {},
   "source": [
    "prompt\n",
    "\n",
    "call name list_datasets\n",
    "parameter - null\n",
    "\n",
    "\n",
    "call name list_datasets\n",
    "parameter - [datasets]\n",
    "\n",
    "\n",
    "call name list_datasets\n",
    "parameter - null"
   ]
  }
 ],
 "metadata": {
  "kernelspec": {
   "display_name": "base",
   "language": "python",
   "name": "python3"
  },
  "language_info": {
   "codemirror_mode": {
    "name": "ipython",
    "version": 3
   },
   "file_extension": ".py",
   "mimetype": "text/x-python",
   "name": "python",
   "nbconvert_exporter": "python",
   "pygments_lexer": "ipython3",
   "version": "3.10.9"
  }
 },
 "nbformat": 4,
 "nbformat_minor": 5
}
