{
 "cells": [
  {
   "cell_type": "code",
   "execution_count": 20,
   "id": "ca4902dd",
   "metadata": {},
   "outputs": [],
   "source": [
    "from google.cloud import bigquery\n",
    "\n",
    "client = bigquery.Client(\"asc-colabathon\")\n",
    "\n",
    "api_response = client.list_datasets()\n"
   ]
  },
  {
   "cell_type": "code",
   "execution_count": null,
   "id": "ecd546e1",
   "metadata": {},
   "outputs": [
    {
     "ename": "SyntaxError",
     "evalue": "invalid syntax (3654348432.py, line 2)",
     "output_type": "error",
     "traceback": [
      "\u001b[0;36m  Cell \u001b[0;32mIn[25], line 2\u001b[0;36m\u001b[0m\n\u001b[0;31m    datasets = dataset.dataset_id for dataset in api_response\u001b[0m\n\u001b[0m                                  ^\u001b[0m\n\u001b[0;31mSyntaxError\u001b[0m\u001b[0;31m:\u001b[0m invalid syntax\n"
     ]
    }
   ],
   "source": [
    "\n",
    "# print(list(api_response))\n",
    "# datasets = dataset.dataset_id for dataset in api_response\n",
    "\n",
    "for dataset in api_response:\n",
    "    print(\"\\t{}\".format(dataset.dataset_id))\n",
    "    datasets.append(str(dataset.dataset_id))\n"
   ]
  },
  {
   "cell_type": "code",
   "execution_count": 23,
   "id": "5013c1a1",
   "metadata": {},
   "outputs": [
    {
     "name": "stdout",
     "output_type": "stream",
     "text": [
      "['dv_test_1', 'dv_test_2']\n"
     ]
    }
   ],
   "source": [
    "# print(api_response)\n",
    "# datasets = []\n",
    "# for dataset in api_response:\n",
    "#     datasets.append(str(dataset.dataset_id))\n",
    "# datasets = list([ ])\n",
    "print(datasets)"
   ]
  },
  {
   "cell_type": "markdown",
   "id": "e711c2bc",
   "metadata": {},
   "source": [
    "May 8th - "
   ]
  },
  {
   "cell_type": "markdown",
   "id": "9bcb970f",
   "metadata": {},
   "source": [
    "First Prompt - Sri Natural Test - Send to Gemini\n",
    "Repsonse\n",
    "parameters null\n",
    "1 - chat_send: ; call_name: list_datasets; params: \n",
    "\n",
    "2  - chat_send: ['dv_test_1', 'dv_test_2']; call_name: list_datasets; params: \n",
    "\n",
    "1 - chat_send: ['dv_test_1', 'dv_test_2']; call_name: list_tables; params: \n",
    "dataset_id: dv_test_1\n",
    "2  - chat_send: ['test1', 'test3']; call_name: list_tables; params: \n",
    "dataset_id: dv_test_1"
   ]
  },
  {
   "cell_type": "markdown",
   "id": "f18c0f61",
   "metadata": {},
   "source": [
    "1 - chat_send: ; call_name: list_tables; params: \n",
    "dataset_id: ['dv_test_1', 'dv_test_2']\n",
    "dataset id = dv_test_1\n",
    "inside:['test1', 'test3']\n",
    "dataset id = dv_test_2\n",
    "inside:['test2', 'test4']\n",
    "outside:['test1', 'test3']['test2', 'test4']\n",
    "2  - chat_send: ['test1', 'test3']['test2', 'test4']; call_name: list_tables; params: \n",
    "dataset_id: ['dv_test_1', 'dv_test_2']\n",
    "1 - chat_send: ; call_name: list_datasets; params: \n",
    "\n",
    "2  - chat_send: ['dv_test_1', 'dv_test_2']; call_name: list_datasets; params: \n",
    "\n",
    "1 - chat_send: ; call_name: list_datasets; params: \n",
    "\n",
    "2  - chat_send: ['dv_test_1', 'dv_test_2']; call_name: list_datasets; params: \n",
    "\n",
    "1 - chat_send: ['dv_test_1', 'dv_test_2']; call_name: list_tables; params: \n",
    "dataset_id: ['dv_test_1', 'dv_test_2']\n",
    "dataset id = dv_test_1\n",
    "inside:['test1', 'test3']\n",
    "dataset id = dv_test_2\n",
    "inside:['test2', 'test4']\n",
    "outside:['test1', 'test3']['test2', 'test4']\n",
    "2  - chat_send: ['test1', 'test3']['test2', 'test4']; call_name: list_tables; params: \n",
    "dataset_id: ['dv_test_1', 'dv_test_2']"
   ]
  },
  {
   "cell_type": "markdown",
   "id": "c692ee04",
   "metadata": {},
   "source": [
    "1. get me the count of all the orders created today?\n",
    "select count(*) from clinicalorder where documentclass in ('order') and date(createddatetime) = today\n",
    "\n",
    "2. what are different types of orders?\n",
    "select distinct documentclass from clinicalorder\n",
    "\n",
    "3. get me top 10 surgeries?\n",
    "select <<What_Surgery>> from clinicalorder where documentclass in ('order') and date(createddatetime) = today order by createddatetime desc limit 10\n"
   ]
  },
  {
   "cell_type": "markdown",
   "id": "2c8e5cd4",
   "metadata": {},
   "source": [
    "05/12\n",
    "1. clean up the database. rename datasets/tables. and get soem test data.\n",
    "2. clean up the Gemini Model repsonse. should not contain what table is being searched and what is being done?\n",
    "3. lucid chart with your ideas\n",
    "4. create a dummy login page for security (give access to 4 people)"
   ]
  },
  {
   "cell_type": "markdown",
   "id": "40780829",
   "metadata": {},
   "source": []
  }
 ],
 "metadata": {
  "kernelspec": {
   "display_name": "base",
   "language": "python",
   "name": "python3"
  },
  "language_info": {
   "codemirror_mode": {
    "name": "ipython",
    "version": 3
   },
   "file_extension": ".py",
   "mimetype": "text/x-python",
   "name": "python",
   "nbconvert_exporter": "python",
   "pygments_lexer": "ipython3",
   "version": "3.10.9"
  }
 },
 "nbformat": 4,
 "nbformat_minor": 5
}
