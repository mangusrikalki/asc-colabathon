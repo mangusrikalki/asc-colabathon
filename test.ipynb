{
 "cells": [
  {
   "cell_type": "markdown",
   "id": "2c8e5cd4",
   "metadata": {},
   "source": [
    "-ToDo-\n",
    "05/12\n",
    "1. clean up the database. rename datasets/tables. and get soem test data.\n",
    "2. clean up the Gemini Model repsonse. should not contain what table is being searched and what is being done?\n",
    "3. lucid chart with your ideas\n",
    "4. create a dummy login page for security (give access to 4 people)\n",
    "\n",
    "After Dry Run\n",
    "->. tune the Gemini model to remove the unnecessary info. like the list_daatsets() api, what is it doing in the behind?\n",
    "->. tune the model using the funtion call tuning \n",
    "->. Do the error handling. even if there is a runtime error show it as a chat response, isntead of the red text.\n",
    "->. Deploy the app to the GCP \n",
    "\n"
   ]
  },
  {
   "cell_type": "markdown",
   "id": "40780829",
   "metadata": {},
   "source": [
    "def verify_credentials(username, password):\n",
    "    # Replace this with your actual authentication logic (e.g., database lookup)\n",
    "    if username == \"user\" and password == \"password\":\n",
    "        return True\n",
    "    return False\n",
    "\n",
    "def main():\n",
    "    st.title(\"Login\")\n",
    "\n",
    "    username = st.text_input(\"User ID\")\n",
    "    password = st.text_input(\"Password\", type=\"password\")\n",
    "\n",
    "    if st.button(\"Login\"):\n",
    "        if verify_credentials(username, password):\n",
    "            st.success(\"Logged in successfully!\")\n",
    "            st.sessio"
   ]
  }
 ],
 "metadata": {
  "kernelspec": {
   "display_name": "base",
   "language": "python",
   "name": "python3"
  },
  "language_info": {
   "codemirror_mode": {
    "name": "ipython",
    "version": 3
   },
   "file_extension": ".py",
   "mimetype": "text/x-python",
   "name": "python",
   "nbconvert_exporter": "python",
   "pygments_lexer": "ipython3",
   "version": "3.10.9"
  }
 },
 "nbformat": 4,
 "nbformat_minor": 5
}
